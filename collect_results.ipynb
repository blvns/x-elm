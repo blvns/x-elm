{
 "cells": [
  {
   "cell_type": "code",
   "execution_count": 1,
   "metadata": {
    "pycharm": {
     "is_executing": true,
     "name": "#%%\n"
    }
   },
   "outputs": [],
   "source": [
    "import os\n",
    "import pickle\n",
    "import pandas as pd\n",
    "from typing import List\n",
    "import math"
   ]
  },
  {
   "cell_type": "code",
   "execution_count": 2,
   "metadata": {
    "collapsed": false,
    "jupyter": {
     "outputs_hidden": false
    },
    "pycharm": {
     "is_executing": true,
     "name": "#%%\n"
    }
   },
   "outputs": [],
   "source": [
    "RESULT_DIR = \"../results\""
   ]
  },
  {
   "cell_type": "markdown",
   "metadata": {
    "collapsed": false,
    "jupyter": {
     "outputs_hidden": false
    },
    "pycharm": {
     "name": "#%% md\n"
    }
   },
   "source": [
    "# Functions used for all datasets\n"
   ]
  },
  {
   "cell_type": "code",
   "execution_count": 3,
   "metadata": {
    "collapsed": false,
    "jupyter": {
     "outputs_hidden": false
    },
    "pycharm": {
     "name": "#%%\n"
    }
   },
   "outputs": [],
   "source": [
    "ALL_LANGUAGES = ['en', 'es', 'de', 'el', 'ja', 'ko', 'hi', 'ur', 'bg', 'ru', 'fr', 'ar', 'tr', 'zh', 'vi', 'sw']"
   ]
  },
  {
   "cell_type": "code",
   "execution_count": 4,
   "metadata": {
    "collapsed": false,
    "jupyter": {
     "outputs_hidden": false
    },
    "pycharm": {
     "name": "#%%\n"
    }
   },
   "outputs": [],
   "source": [
    "def calculate_acc(scores):\n",
    "\tacc = [1 if int(y) == probs.index(min(probs)) else 0 for y, probs in scores]\n",
    "\tacc = (sum(acc)/len(acc))*100\n",
    "\treturn acc"
   ]
  },
  {
   "cell_type": "code",
   "execution_count": 5,
   "metadata": {
    "collapsed": false,
    "jupyter": {
     "outputs_hidden": false
    },
    "pycharm": {
     "name": "#%%\n"
    }
   },
   "outputs": [],
   "source": [
    "def row_results(model=\"10.4B\", experiment=\"dense\"):\n",
    "\tevaluation_directory = os.path.join(RESULT_DIR, model, experiment)\n",
    "\trow = {'index': f\"{model}_{experiment}\"}\n",
    "\tfor language in LANGUGAES:\n",
    "\t\tfile_name = f\"{'hf' if model != 'xglm-1.7B' else model}.{task}\" \\\n",
    "\t\t\t\t\tf\".k{demonstrations}.{split}_{language}.run{runs}.pkl\"\n",
    "\t\tevaluation_file = os.path.join(evaluation_directory, file_name)\n",
    "\n",
    "\t\ttry:\n",
    "\t\t\twith open(evaluation_file, \"rb\") as pickle_file:\n",
    "\t\t\t\tlang_scores=pickle.load(pickle_file)\n",
    "\n",
    "\t\t\trow[language] = calculate_acc(lang_scores)\n",
    "\t\texcept FileNotFoundError:\n",
    "\t\t\trow[language] = 0\n",
    "\treturn\trow\n"
   ]
  },
  {
   "cell_type": "markdown",
   "metadata": {
    "collapsed": false,
    "jupyter": {
     "outputs_hidden": false
    },
    "pycharm": {
     "name": "#%% md\n"
    }
   },
   "source": [
    "# XNLI Task Zero-Shot"
   ]
  },
  {
   "cell_type": "code",
   "execution_count": 6,
   "metadata": {
    "collapsed": false,
    "jupyter": {
     "outputs_hidden": false
    },
    "pycharm": {
     "name": "#%%\n"
    }
   },
   "outputs": [],
   "source": [
    "task = \"xnli\"\n",
    "demonstrations = 0 # zero-shot\n",
    "runs = 0\n",
    "\n",
    "split=\"eval\"\n",
    "LANGUGAES=['ar', 'bg', 'de', 'el', 'en', 'es', 'fr', 'hi', 'ru', 'sw', 'th', 'tr', 'ur', 'vi', 'zh']"
   ]
  },
  {
   "cell_type": "markdown",
   "metadata": {
    "collapsed": false,
    "jupyter": {
     "outputs_hidden": false
    },
    "pycharm": {
     "name": "#%% md\n"
    }
   },
   "source": [
    "Collect data from a split"
   ]
  },
  {
   "cell_type": "code",
   "execution_count": 7,
   "metadata": {
    "collapsed": false,
    "jupyter": {
     "outputs_hidden": false
    },
    "pycharm": {
     "name": "#%%\n"
    }
   },
   "outputs": [],
   "source": [
    "evals = []"
   ]
  },
  {
   "cell_type": "code",
   "execution_count": 8,
   "metadata": {
    "collapsed": false,
    "jupyter": {
     "outputs_hidden": false
    },
    "pycharm": {
     "name": "#%%\n"
    }
   },
   "outputs": [],
   "source": [
    "model = \"xglm-1.7B\"\n",
    "experiment = \"dense\"\n",
    "evals.append(row_results(model, experiment))"
   ]
  },
  {
   "cell_type": "code",
   "execution_count": 9,
   "metadata": {
    "collapsed": false,
    "jupyter": {
     "outputs_hidden": false
    },
    "pycharm": {
     "name": "#%%\n"
    }
   },
   "outputs": [],
   "source": [
    "model = \"10.4B\"\n",
    "experiment = \"dense\"\n",
    "evals.append(row_results(model, experiment))"
   ]
  },
  {
   "cell_type": "code",
   "execution_count": 10,
   "metadata": {
    "pycharm": {
     "name": "#%%\n"
    }
   },
   "outputs": [],
   "source": [
    "model = \"10.4B\"\n",
    "experiment = \"C8_lang\"\n",
    "evals.append(row_results(model, experiment))"
   ]
  },
  {
   "cell_type": "code",
   "execution_count": 11,
   "metadata": {
    "collapsed": false,
    "jupyter": {
     "outputs_hidden": false
    },
    "pycharm": {
     "name": "#%%\n"
    }
   },
   "outputs": [],
   "source": [
    "model = \"20.9B\"\n",
    "experiment = \"dense\"\n",
    "evals.append(row_results(model, experiment))"
   ]
  },
  {
   "cell_type": "code",
   "execution_count": 12,
   "metadata": {
    "pycharm": {
     "name": "#%%\n"
    }
   },
   "outputs": [],
   "source": [
    "model = \"20.9B\"\n",
    "experiment = \"C8_lang\"\n",
    "evals.append(row_results(model, experiment))"
   ]
  },
  {
   "cell_type": "code",
   "execution_count": 13,
   "metadata": {
    "pycharm": {
     "name": "#%%\n"
    }
   },
   "outputs": [],
   "source": [
    "model = \"20.9B\"\n",
    "experiment = \"C8_hmr\"\n",
    "evals.append(row_results(model, experiment))"
   ]
  },
  {
   "cell_type": "markdown",
   "metadata": {
    "collapsed": false,
    "jupyter": {
     "outputs_hidden": false
    },
    "pycharm": {
     "name": "#%% md\n"
    }
   },
   "source": [
    "Save to pandas and as csv"
   ]
  },
  {
   "cell_type": "code",
   "execution_count": 14,
   "metadata": {
    "collapsed": false,
    "jupyter": {
     "outputs_hidden": false
    },
    "pycharm": {
     "name": "#%%\n"
    }
   },
   "outputs": [],
   "source": [
    "df = pd.DataFrame(evals)\n",
    "df.set_index('index', inplace=True)\n",
    "df.to_csv(f\"{task}_{split}_k{demonstrations}_results.csv\")"
   ]
  },
  {
   "cell_type": "code",
   "execution_count": 15,
   "metadata": {
    "collapsed": false,
    "jupyter": {
     "outputs_hidden": false
    },
    "pycharm": {
     "name": "#%%\n"
    }
   },
   "outputs": [
    {
     "data": {
      "text/html": [
       "<div>\n",
       "<style scoped>\n",
       "    .dataframe tbody tr th:only-of-type {\n",
       "        vertical-align: middle;\n",
       "    }\n",
       "\n",
       "    .dataframe tbody tr th {\n",
       "        vertical-align: top;\n",
       "    }\n",
       "\n",
       "    .dataframe thead th {\n",
       "        text-align: right;\n",
       "    }\n",
       "</style>\n",
       "<table border=\"1\" class=\"dataframe\">\n",
       "  <thead>\n",
       "    <tr style=\"text-align: right;\">\n",
       "      <th></th>\n",
       "      <th>ar</th>\n",
       "      <th>bg</th>\n",
       "      <th>de</th>\n",
       "      <th>el</th>\n",
       "      <th>en</th>\n",
       "      <th>es</th>\n",
       "      <th>fr</th>\n",
       "      <th>hi</th>\n",
       "      <th>ru</th>\n",
       "      <th>sw</th>\n",
       "      <th>th</th>\n",
       "      <th>tr</th>\n",
       "      <th>ur</th>\n",
       "      <th>vi</th>\n",
       "      <th>zh</th>\n",
       "    </tr>\n",
       "    <tr>\n",
       "      <th>index</th>\n",
       "      <th></th>\n",
       "      <th></th>\n",
       "      <th></th>\n",
       "      <th></th>\n",
       "      <th></th>\n",
       "      <th></th>\n",
       "      <th></th>\n",
       "      <th></th>\n",
       "      <th></th>\n",
       "      <th></th>\n",
       "      <th></th>\n",
       "      <th></th>\n",
       "      <th></th>\n",
       "      <th></th>\n",
       "      <th></th>\n",
       "    </tr>\n",
       "  </thead>\n",
       "  <tbody>\n",
       "    <tr>\n",
       "      <th>xglm-1.7B_dense</th>\n",
       "      <td>46.8</td>\n",
       "      <td>45.7</td>\n",
       "      <td>44.1</td>\n",
       "      <td>42.5</td>\n",
       "      <td>51.5</td>\n",
       "      <td>36.5</td>\n",
       "      <td>47.2</td>\n",
       "      <td>45.9</td>\n",
       "      <td>47.3</td>\n",
       "      <td>43.6</td>\n",
       "      <td>44.9</td>\n",
       "      <td>42.5</td>\n",
       "      <td>43.5</td>\n",
       "      <td>43.9</td>\n",
       "      <td>46.9</td>\n",
       "    </tr>\n",
       "    <tr>\n",
       "      <th>10.4B_dense</th>\n",
       "      <td>47.2</td>\n",
       "      <td>43.5</td>\n",
       "      <td>44.3</td>\n",
       "      <td>42.3</td>\n",
       "      <td>51.7</td>\n",
       "      <td>37.0</td>\n",
       "      <td>46.6</td>\n",
       "      <td>45.3</td>\n",
       "      <td>44.3</td>\n",
       "      <td>40.0</td>\n",
       "      <td>44.9</td>\n",
       "      <td>43.4</td>\n",
       "      <td>43.6</td>\n",
       "      <td>41.1</td>\n",
       "      <td>44.4</td>\n",
       "    </tr>\n",
       "    <tr>\n",
       "      <th>10.4B_C8_lang</th>\n",
       "      <td>46.4</td>\n",
       "      <td>46.1</td>\n",
       "      <td>43.5</td>\n",
       "      <td>45.8</td>\n",
       "      <td>52.2</td>\n",
       "      <td>36.0</td>\n",
       "      <td>47.1</td>\n",
       "      <td>42.6</td>\n",
       "      <td>42.5</td>\n",
       "      <td>41.3</td>\n",
       "      <td>0.0</td>\n",
       "      <td>43.5</td>\n",
       "      <td>43.7</td>\n",
       "      <td>42.6</td>\n",
       "      <td>45.3</td>\n",
       "    </tr>\n",
       "    <tr>\n",
       "      <th>20.9B_dense</th>\n",
       "      <td>47.9</td>\n",
       "      <td>45.0</td>\n",
       "      <td>45.3</td>\n",
       "      <td>45.2</td>\n",
       "      <td>51.1</td>\n",
       "      <td>37.2</td>\n",
       "      <td>45.9</td>\n",
       "      <td>44.5</td>\n",
       "      <td>44.5</td>\n",
       "      <td>39.6</td>\n",
       "      <td>44.3</td>\n",
       "      <td>44.8</td>\n",
       "      <td>43.1</td>\n",
       "      <td>41.6</td>\n",
       "      <td>44.6</td>\n",
       "    </tr>\n",
       "    <tr>\n",
       "      <th>20.9B_C8_lang</th>\n",
       "      <td>46.2</td>\n",
       "      <td>44.9</td>\n",
       "      <td>43.9</td>\n",
       "      <td>45.4</td>\n",
       "      <td>52.0</td>\n",
       "      <td>36.0</td>\n",
       "      <td>47.2</td>\n",
       "      <td>43.5</td>\n",
       "      <td>41.9</td>\n",
       "      <td>40.6</td>\n",
       "      <td>0.0</td>\n",
       "      <td>44.2</td>\n",
       "      <td>41.9</td>\n",
       "      <td>44.4</td>\n",
       "      <td>46.3</td>\n",
       "    </tr>\n",
       "    <tr>\n",
       "      <th>20.9B_C8_hmr</th>\n",
       "      <td>46.0</td>\n",
       "      <td>46.0</td>\n",
       "      <td>43.2</td>\n",
       "      <td>46.4</td>\n",
       "      <td>52.3</td>\n",
       "      <td>36.4</td>\n",
       "      <td>47.0</td>\n",
       "      <td>42.4</td>\n",
       "      <td>41.8</td>\n",
       "      <td>41.7</td>\n",
       "      <td>0.0</td>\n",
       "      <td>44.3</td>\n",
       "      <td>41.4</td>\n",
       "      <td>43.5</td>\n",
       "      <td>46.1</td>\n",
       "    </tr>\n",
       "  </tbody>\n",
       "</table>\n",
       "</div>"
      ],
      "text/plain": [
       "                   ar    bg    de    el    en    es    fr    hi    ru    sw  \\\n",
       "index                                                                         \n",
       "xglm-1.7B_dense  46.8  45.7  44.1  42.5  51.5  36.5  47.2  45.9  47.3  43.6   \n",
       "10.4B_dense      47.2  43.5  44.3  42.3  51.7  37.0  46.6  45.3  44.3  40.0   \n",
       "10.4B_C8_lang    46.4  46.1  43.5  45.8  52.2  36.0  47.1  42.6  42.5  41.3   \n",
       "20.9B_dense      47.9  45.0  45.3  45.2  51.1  37.2  45.9  44.5  44.5  39.6   \n",
       "20.9B_C8_lang    46.2  44.9  43.9  45.4  52.0  36.0  47.2  43.5  41.9  40.6   \n",
       "20.9B_C8_hmr     46.0  46.0  43.2  46.4  52.3  36.4  47.0  42.4  41.8  41.7   \n",
       "\n",
       "                   th    tr    ur    vi    zh  \n",
       "index                                          \n",
       "xglm-1.7B_dense  44.9  42.5  43.5  43.9  46.9  \n",
       "10.4B_dense      44.9  43.4  43.6  41.1  44.4  \n",
       "10.4B_C8_lang     0.0  43.5  43.7  42.6  45.3  \n",
       "20.9B_dense      44.3  44.8  43.1  41.6  44.6  \n",
       "20.9B_C8_lang     0.0  44.2  41.9  44.4  46.3  \n",
       "20.9B_C8_hmr      0.0  44.3  41.4  43.5  46.1  "
      ]
     },
     "execution_count": 15,
     "metadata": {},
     "output_type": "execute_result"
    }
   ],
   "source": [
    "df"
   ]
  },
  {
   "cell_type": "markdown",
   "metadata": {
    "collapsed": false,
    "jupyter": {
     "outputs_hidden": false
    },
    "pycharm": {
     "name": "#%% md\n"
    }
   },
   "source": [
    "# Xstorycloze Task Zero-Shot"
   ]
  },
  {
   "cell_type": "code",
   "execution_count": 16,
   "metadata": {
    "collapsed": false,
    "jupyter": {
     "outputs_hidden": false
    },
    "pycharm": {
     "name": "#%%\n"
    }
   },
   "outputs": [],
   "source": [
    "task = \"xstorycloze\"\n",
    "demonstrations = 0 # zero-shot\n",
    "runs = 0\n",
    "\n",
    "split=\"eval\"\n",
    "LANGUGAES=['ar', 'en', 'es', 'eu', 'hi', 'id', 'my', 'ru', 'sw', 'te', 'zh']\n",
    "\n",
    "evals = []"
   ]
  },
  {
   "cell_type": "code",
   "execution_count": 17,
   "metadata": {
    "collapsed": false,
    "jupyter": {
     "outputs_hidden": false
    },
    "pycharm": {
     "name": "#%%\n"
    }
   },
   "outputs": [],
   "source": [
    "model = \"xglm-1.7B\"\n",
    "experiment = \"dense\"\n",
    "evals.append(row_results(model, experiment))"
   ]
  },
  {
   "cell_type": "code",
   "execution_count": 18,
   "metadata": {
    "collapsed": false,
    "jupyter": {
     "outputs_hidden": false
    },
    "pycharm": {
     "name": "#%%\n"
    }
   },
   "outputs": [],
   "source": [
    "model = \"10.4B\"\n",
    "experiment = \"dense\"\n",
    "evals.append(row_results(model, experiment))"
   ]
  },
  {
   "cell_type": "code",
   "execution_count": 19,
   "metadata": {
    "pycharm": {
     "name": "#%%\n"
    }
   },
   "outputs": [],
   "source": [
    "model = \"10.4B\"\n",
    "experiment = \"C8_lang\"\n",
    "evals.append(row_results(model, experiment))"
   ]
  },
  {
   "cell_type": "code",
   "execution_count": 20,
   "metadata": {
    "collapsed": false,
    "jupyter": {
     "outputs_hidden": false
    },
    "pycharm": {
     "name": "#%%\n"
    }
   },
   "outputs": [],
   "source": [
    "model = \"20.9B\"\n",
    "experiment = \"dense\"\n",
    "evals.append(row_results(model, experiment))"
   ]
  },
  {
   "cell_type": "code",
   "execution_count": 21,
   "metadata": {
    "collapsed": false,
    "jupyter": {
     "outputs_hidden": false
    },
    "pycharm": {
     "name": "#%%\n"
    }
   },
   "outputs": [],
   "source": [
    "model = \"20.9B\"\n",
    "experiment = \"C8_lang\"\n",
    "evals.append(row_results(model, experiment))"
   ]
  },
  {
   "cell_type": "code",
   "execution_count": 22,
   "metadata": {
    "collapsed": false,
    "jupyter": {
     "outputs_hidden": false
    },
    "pycharm": {
     "name": "#%%\n"
    }
   },
   "outputs": [],
   "source": [
    "model = \"20.9B\"\n",
    "experiment = \"C8_hmr\"\n",
    "evals.append(row_results(model, experiment))"
   ]
  },
  {
   "cell_type": "code",
   "execution_count": 23,
   "metadata": {
    "collapsed": false,
    "jupyter": {
     "outputs_hidden": false
    },
    "pycharm": {
     "name": "#%%\n"
    }
   },
   "outputs": [],
   "source": [
    "df = pd.DataFrame(evals)\n",
    "df.set_index('index', inplace=True)\n",
    "df.to_csv(f\"{task}_{split}_k{demonstrations}_results.csv\")"
   ]
  },
  {
   "cell_type": "code",
   "execution_count": 24,
   "metadata": {},
   "outputs": [
    {
     "data": {
      "text/html": [
       "<div>\n",
       "<style scoped>\n",
       "    .dataframe tbody tr th:only-of-type {\n",
       "        vertical-align: middle;\n",
       "    }\n",
       "\n",
       "    .dataframe tbody tr th {\n",
       "        vertical-align: top;\n",
       "    }\n",
       "\n",
       "    .dataframe thead th {\n",
       "        text-align: right;\n",
       "    }\n",
       "</style>\n",
       "<table border=\"1\" class=\"dataframe\">\n",
       "  <thead>\n",
       "    <tr style=\"text-align: right;\">\n",
       "      <th></th>\n",
       "      <th>ar</th>\n",
       "      <th>en</th>\n",
       "      <th>es</th>\n",
       "      <th>eu</th>\n",
       "      <th>hi</th>\n",
       "      <th>id</th>\n",
       "      <th>my</th>\n",
       "      <th>ru</th>\n",
       "      <th>sw</th>\n",
       "      <th>te</th>\n",
       "      <th>zh</th>\n",
       "    </tr>\n",
       "    <tr>\n",
       "      <th>index</th>\n",
       "      <th></th>\n",
       "      <th></th>\n",
       "      <th></th>\n",
       "      <th></th>\n",
       "      <th></th>\n",
       "      <th></th>\n",
       "      <th></th>\n",
       "      <th></th>\n",
       "      <th></th>\n",
       "      <th></th>\n",
       "      <th></th>\n",
       "    </tr>\n",
       "  </thead>\n",
       "  <tbody>\n",
       "    <tr>\n",
       "      <th>xglm-1.7B_dense</th>\n",
       "      <td>53.3</td>\n",
       "      <td>63.1</td>\n",
       "      <td>57.3</td>\n",
       "      <td>56.4</td>\n",
       "      <td>55.0</td>\n",
       "      <td>59.3</td>\n",
       "      <td>54.0</td>\n",
       "      <td>60.0</td>\n",
       "      <td>60.1</td>\n",
       "      <td>57.0</td>\n",
       "      <td>55.5</td>\n",
       "    </tr>\n",
       "    <tr>\n",
       "      <th>10.4B_dense</th>\n",
       "      <td>52.0</td>\n",
       "      <td>61.7</td>\n",
       "      <td>56.8</td>\n",
       "      <td>53.8</td>\n",
       "      <td>53.8</td>\n",
       "      <td>57.6</td>\n",
       "      <td>53.7</td>\n",
       "      <td>60.1</td>\n",
       "      <td>60.1</td>\n",
       "      <td>56.4</td>\n",
       "      <td>56.1</td>\n",
       "    </tr>\n",
       "    <tr>\n",
       "      <th>10.4B_C8_lang</th>\n",
       "      <td>52.4</td>\n",
       "      <td>62.4</td>\n",
       "      <td>58.1</td>\n",
       "      <td>0.0</td>\n",
       "      <td>55.2</td>\n",
       "      <td>0.0</td>\n",
       "      <td>0.0</td>\n",
       "      <td>59.6</td>\n",
       "      <td>60.2</td>\n",
       "      <td>0.0</td>\n",
       "      <td>57.7</td>\n",
       "    </tr>\n",
       "    <tr>\n",
       "      <th>20.9B_dense</th>\n",
       "      <td>50.5</td>\n",
       "      <td>60.7</td>\n",
       "      <td>56.1</td>\n",
       "      <td>52.1</td>\n",
       "      <td>52.0</td>\n",
       "      <td>55.4</td>\n",
       "      <td>53.4</td>\n",
       "      <td>58.6</td>\n",
       "      <td>58.6</td>\n",
       "      <td>55.5</td>\n",
       "      <td>56.2</td>\n",
       "    </tr>\n",
       "    <tr>\n",
       "      <th>20.9B_C8_lang</th>\n",
       "      <td>52.3</td>\n",
       "      <td>62.7</td>\n",
       "      <td>57.5</td>\n",
       "      <td>0.0</td>\n",
       "      <td>52.7</td>\n",
       "      <td>0.0</td>\n",
       "      <td>0.0</td>\n",
       "      <td>60.2</td>\n",
       "      <td>60.3</td>\n",
       "      <td>0.0</td>\n",
       "      <td>58.8</td>\n",
       "    </tr>\n",
       "    <tr>\n",
       "      <th>20.9B_C8_hmr</th>\n",
       "      <td>52.3</td>\n",
       "      <td>62.6</td>\n",
       "      <td>57.6</td>\n",
       "      <td>0.0</td>\n",
       "      <td>52.9</td>\n",
       "      <td>0.0</td>\n",
       "      <td>0.0</td>\n",
       "      <td>59.6</td>\n",
       "      <td>60.1</td>\n",
       "      <td>0.0</td>\n",
       "      <td>58.0</td>\n",
       "    </tr>\n",
       "  </tbody>\n",
       "</table>\n",
       "</div>"
      ],
      "text/plain": [
       "                   ar    en    es    eu    hi    id    my    ru    sw    te  \\\n",
       "index                                                                         \n",
       "xglm-1.7B_dense  53.3  63.1  57.3  56.4  55.0  59.3  54.0  60.0  60.1  57.0   \n",
       "10.4B_dense      52.0  61.7  56.8  53.8  53.8  57.6  53.7  60.1  60.1  56.4   \n",
       "10.4B_C8_lang    52.4  62.4  58.1   0.0  55.2   0.0   0.0  59.6  60.2   0.0   \n",
       "20.9B_dense      50.5  60.7  56.1  52.1  52.0  55.4  53.4  58.6  58.6  55.5   \n",
       "20.9B_C8_lang    52.3  62.7  57.5   0.0  52.7   0.0   0.0  60.2  60.3   0.0   \n",
       "20.9B_C8_hmr     52.3  62.6  57.6   0.0  52.9   0.0   0.0  59.6  60.1   0.0   \n",
       "\n",
       "                   zh  \n",
       "index                  \n",
       "xglm-1.7B_dense  55.5  \n",
       "10.4B_dense      56.1  \n",
       "10.4B_C8_lang    57.7  \n",
       "20.9B_dense      56.2  \n",
       "20.9B_C8_lang    58.8  \n",
       "20.9B_C8_hmr     58.0  "
      ]
     },
     "execution_count": 24,
     "metadata": {},
     "output_type": "execute_result"
    }
   ],
   "source": [
    "df"
   ]
  },
  {
   "cell_type": "markdown",
   "metadata": {
    "collapsed": false,
    "jupyter": {
     "outputs_hidden": false
    },
    "pycharm": {
     "name": "#%% md\n"
    }
   },
   "source": [
    "# Cross-lingual + Few shot"
   ]
  },
  {
   "cell_type": "code",
   "execution_count": 25,
   "metadata": {
    "collapsed": false,
    "jupyter": {
     "outputs_hidden": false
    },
    "pycharm": {
     "is_executing": true,
     "name": "#%%\n"
    }
   },
   "outputs": [],
   "source": [
    "NUM_RUNS = 5"
   ]
  },
  {
   "cell_type": "code",
   "execution_count": 26,
   "metadata": {
    "collapsed": false,
    "jupyter": {
     "outputs_hidden": false
    },
    "pycharm": {
     "name": "#%%\n"
    }
   },
   "outputs": [],
   "source": [
    "def compute_mean_std(evals: List):\n",
    "\tmean = sum(evals)/len(evals)\n",
    "\tvar = sum([(s-mean)**2 for s in evals])/len(evals)\n",
    "\tstd_dev = math.sqrt(var)\n",
    "\tstd_err = std_dev/math.sqrt(len(evals))\n",
    "\n",
    "\treturn mean, std_err"
   ]
  },
  {
   "cell_type": "code",
   "execution_count": 27,
   "metadata": {
    "collapsed": false,
    "jupyter": {
     "outputs_hidden": false
    },
    "pycharm": {
     "name": "#%%\n"
    }
   },
   "outputs": [],
   "source": [
    "def row_results_with_std(model=\"10.4B\", experiment=\"C8_lang_from_en_TRG\", std=0):\n",
    "\tevaluation_directory = os.path.join(RESULT_DIR, model, experiment)\n",
    "\trow_avg = {'index': f\"{model}_{experiment}\"}\n",
    "\trow_std = {'index': f\"{model}_{experiment}\"}\n",
    "\tfor language in LANGUGAES:\n",
    "\t\truns_eval = []\n",
    "\t\tfor runs in range(NUM_RUNS):\n",
    "\n",
    "\t\t\tfile_name = f\"{'hf' if model != 'xglm-1.7B' else model}.{task}\" \\\n",
    "\t\t\t\t\t\tf\".k{demonstrations}.{split}_{language}.run{runs}.pkl\"\n",
    "\t\t\tevaluation_file = os.path.join(evaluation_directory, file_name)\n",
    "\n",
    "\t\t\ttry:\n",
    "\t\t\t\twith open(evaluation_file, \"rb\") as pickle_file:\n",
    "\t\t\t\t\trun_scores =pickle.load(pickle_file)\n",
    "\t\t\texcept FileNotFoundError:\n",
    "\t\t\t\tcontinue\n",
    "\n",
    "\t\t\truns_eval.append(calculate_acc(run_scores))\n",
    "\n",
    "\t\tif len(runs_eval) == 0:\n",
    "\t\t\trow_avg[language] = 0\n",
    "\t\t\trow_std[language] = 0\n",
    "\t\telse:\n",
    "\t\t\trow_avg[language], row_std[language] = compute_mean_std(runs_eval)\n",
    "\treturn\trow_avg, row_std"
   ]
  },
  {
   "cell_type": "markdown",
   "metadata": {},
   "source": [
    "## XNLI"
   ]
  },
  {
   "cell_type": "code",
   "execution_count": 28,
   "metadata": {
    "collapsed": false,
    "jupyter": {
     "outputs_hidden": false
    },
    "pycharm": {
     "name": "#%%\n"
    }
   },
   "outputs": [],
   "source": [
    "task = \"xnli\"\n",
    "demonstrations = 8 # few-shot\n",
    "\n",
    "split=\"eval\"\n",
    "LANGUGAES=['ar', 'bg', 'de', 'el', 'en', 'es', 'fr', 'hi', 'ru', 'sw', 'th', 'tr', 'ur', 'vi', 'zh']\n",
    "\n",
    "evals = []\n",
    "evals_std = []"
   ]
  },
  {
   "cell_type": "code",
   "execution_count": 29,
   "metadata": {
    "collapsed": false,
    "jupyter": {
     "outputs_hidden": false
    },
    "pycharm": {
     "name": "#%%\n"
    }
   },
   "outputs": [],
   "source": [
    "model = \"10.4B\"\n",
    "experiment = \"C8_lang_from_en_SRC\"\n",
    "row_avg, row_std = row_results_with_std(model, experiment)\n",
    "evals.append(row_avg)\n",
    "evals_std.append(row_std)"
   ]
  },
  {
   "cell_type": "code",
   "execution_count": 30,
   "metadata": {
    "collapsed": false,
    "jupyter": {
     "outputs_hidden": false
    },
    "pycharm": {
     "name": "#%%\n"
    }
   },
   "outputs": [],
   "source": [
    "model = \"10.4B\"\n",
    "experiment = \"C8_lang_from_en_TRG\"\n",
    "row_avg, row_std = row_results_with_std(model, experiment)\n",
    "evals.append(row_avg)\n",
    "evals_std.append(row_std)"
   ]
  },
  {
   "cell_type": "code",
   "execution_count": 31,
   "metadata": {
    "collapsed": false,
    "jupyter": {
     "outputs_hidden": false
    },
    "pycharm": {
     "name": "#%%\n"
    }
   },
   "outputs": [],
   "source": [
    "model = \"10.4B\"\n",
    "experiment = \"C8_lang_from_en_ENSEMBLE\"\n",
    "row_avg, row_std = row_results_with_std(model, experiment)\n",
    "evals.append(row_avg)\n",
    "evals_std.append(row_std)"
   ]
  },
  {
   "cell_type": "code",
   "execution_count": 32,
   "metadata": {
    "collapsed": false,
    "jupyter": {
     "outputs_hidden": false
    },
    "pycharm": {
     "name": "#%%\n"
    }
   },
   "outputs": [],
   "source": [
    "model = \"20.9B\"\n",
    "experiment = \"C8_hmr_from_en_SRC\"\n",
    "row_avg, row_std = row_results_with_std(model, experiment)\n",
    "evals.append(row_avg)\n",
    "evals_std.append(row_std)"
   ]
  },
  {
   "cell_type": "code",
   "execution_count": 33,
   "metadata": {
    "collapsed": false,
    "jupyter": {
     "outputs_hidden": false
    },
    "pycharm": {
     "name": "#%%\n"
    }
   },
   "outputs": [],
   "source": [
    "model = \"20.9B\"\n",
    "experiment = \"C8_hmr_from_en_TRG\"\n",
    "row_avg, row_std = row_results_with_std(model, experiment)\n",
    "evals.append(row_avg)\n",
    "evals_std.append(row_std)"
   ]
  },
  {
   "cell_type": "code",
   "execution_count": 34,
   "metadata": {
    "collapsed": false,
    "jupyter": {
     "outputs_hidden": false
    },
    "pycharm": {
     "name": "#%%\n"
    }
   },
   "outputs": [],
   "source": [
    "model = \"20.9B\"\n",
    "experiment = \"C8_hmr_from_en_ENSEMBLE\"\n",
    "row_avg, row_std = row_results_with_std(model, experiment)\n",
    "evals.append(row_avg)\n",
    "evals_std.append(row_std)"
   ]
  },
  {
   "cell_type": "code",
   "execution_count": 35,
   "metadata": {
    "collapsed": false,
    "jupyter": {
     "outputs_hidden": false
    },
    "pycharm": {
     "name": "#%%df = pd.DataFrame(evals)\n"
    }
   },
   "outputs": [],
   "source": [
    "df_avg = pd.DataFrame(evals)\n",
    "df_avg.set_index('index', inplace=True)\n",
    "\n",
    "df_std = pd.DataFrame(evals_std)\n",
    "df_std.set_index('index', inplace=True)\n",
    "\n",
    "# format dfs to avg ± std\n",
    "\n",
    "df = df_avg.copy()\n",
    "for col in df_avg.columns:\n",
    "\tdf[col] = df_avg[col].map('{:,.2f}'.format) + \" ± \" + df_std[col].map('{:,.2f}'.format)\n",
    "\n",
    "df.to_csv(f\"{task}_{split}_k{demonstrations}_from_en_results.csv\")"
   ]
  },
  {
   "cell_type": "code",
   "execution_count": 36,
   "metadata": {},
   "outputs": [
    {
     "data": {
      "text/html": [
       "<div>\n",
       "<style scoped>\n",
       "    .dataframe tbody tr th:only-of-type {\n",
       "        vertical-align: middle;\n",
       "    }\n",
       "\n",
       "    .dataframe tbody tr th {\n",
       "        vertical-align: top;\n",
       "    }\n",
       "\n",
       "    .dataframe thead th {\n",
       "        text-align: right;\n",
       "    }\n",
       "</style>\n",
       "<table border=\"1\" class=\"dataframe\">\n",
       "  <thead>\n",
       "    <tr style=\"text-align: right;\">\n",
       "      <th></th>\n",
       "      <th>ar</th>\n",
       "      <th>bg</th>\n",
       "      <th>de</th>\n",
       "      <th>el</th>\n",
       "      <th>en</th>\n",
       "      <th>es</th>\n",
       "      <th>fr</th>\n",
       "      <th>hi</th>\n",
       "      <th>ru</th>\n",
       "      <th>sw</th>\n",
       "      <th>th</th>\n",
       "      <th>tr</th>\n",
       "      <th>ur</th>\n",
       "      <th>vi</th>\n",
       "      <th>zh</th>\n",
       "    </tr>\n",
       "    <tr>\n",
       "      <th>index</th>\n",
       "      <th></th>\n",
       "      <th></th>\n",
       "      <th></th>\n",
       "      <th></th>\n",
       "      <th></th>\n",
       "      <th></th>\n",
       "      <th></th>\n",
       "      <th></th>\n",
       "      <th></th>\n",
       "      <th></th>\n",
       "      <th></th>\n",
       "      <th></th>\n",
       "      <th></th>\n",
       "      <th></th>\n",
       "      <th></th>\n",
       "    </tr>\n",
       "  </thead>\n",
       "  <tbody>\n",
       "    <tr>\n",
       "      <th>10.4B_C8_lang_from_en_SRC</th>\n",
       "      <td>38.00 ± 0.43</td>\n",
       "      <td>41.98 ± 0.89</td>\n",
       "      <td>45.36 ± 0.37</td>\n",
       "      <td>42.60 ± 0.90</td>\n",
       "      <td>48.58 ± 0.47</td>\n",
       "      <td>38.44 ± 0.57</td>\n",
       "      <td>42.96 ± 0.58</td>\n",
       "      <td>43.42 ± 0.41</td>\n",
       "      <td>42.38 ± 0.91</td>\n",
       "      <td>40.40 ± 0.17</td>\n",
       "      <td>0.00 ± 0.00</td>\n",
       "      <td>40.80 ± 0.40</td>\n",
       "      <td>38.74 ± 0.37</td>\n",
       "      <td>40.88 ± 0.68</td>\n",
       "      <td>46.08 ± 0.58</td>\n",
       "    </tr>\n",
       "    <tr>\n",
       "      <th>10.4B_C8_lang_from_en_TRG</th>\n",
       "      <td>43.48 ± 1.11</td>\n",
       "      <td>41.64 ± 0.76</td>\n",
       "      <td>44.46 ± 0.42</td>\n",
       "      <td>42.78 ± 1.00</td>\n",
       "      <td>48.58 ± 0.47</td>\n",
       "      <td>38.44 ± 0.57</td>\n",
       "      <td>46.92 ± 0.74</td>\n",
       "      <td>41.46 ± 0.76</td>\n",
       "      <td>40.96 ± 0.48</td>\n",
       "      <td>40.32 ± 0.65</td>\n",
       "      <td>0.00 ± 0.00</td>\n",
       "      <td>40.66 ± 0.30</td>\n",
       "      <td>40.50 ± 0.51</td>\n",
       "      <td>39.92 ± 0.89</td>\n",
       "      <td>44.38 ± 0.87</td>\n",
       "    </tr>\n",
       "    <tr>\n",
       "      <th>10.4B_C8_lang_from_en_ENSEMBLE</th>\n",
       "      <td>39.36 ± 0.67</td>\n",
       "      <td>41.10 ± 0.99</td>\n",
       "      <td>45.26 ± 0.32</td>\n",
       "      <td>42.98 ± 0.95</td>\n",
       "      <td>48.58 ± 0.47</td>\n",
       "      <td>38.44 ± 0.57</td>\n",
       "      <td>44.64 ± 0.84</td>\n",
       "      <td>43.50 ± 0.78</td>\n",
       "      <td>40.24 ± 0.53</td>\n",
       "      <td>40.54 ± 0.47</td>\n",
       "      <td>0.00 ± 0.00</td>\n",
       "      <td>40.18 ± 0.43</td>\n",
       "      <td>39.46 ± 0.44</td>\n",
       "      <td>39.72 ± 0.73</td>\n",
       "      <td>46.10 ± 0.71</td>\n",
       "    </tr>\n",
       "    <tr>\n",
       "      <th>20.9B_C8_hmr_from_en_SRC</th>\n",
       "      <td>38.66 ± 0.39</td>\n",
       "      <td>40.24 ± 0.59</td>\n",
       "      <td>45.48 ± 0.39</td>\n",
       "      <td>43.36 ± 0.93</td>\n",
       "      <td>48.90 ± 0.16</td>\n",
       "      <td>38.06 ± 0.56</td>\n",
       "      <td>43.08 ± 0.55</td>\n",
       "      <td>43.66 ± 0.17</td>\n",
       "      <td>41.16 ± 0.62</td>\n",
       "      <td>40.22 ± 0.45</td>\n",
       "      <td>0.00 ± 0.00</td>\n",
       "      <td>40.62 ± 0.55</td>\n",
       "      <td>39.28 ± 0.30</td>\n",
       "      <td>40.40 ± 0.51</td>\n",
       "      <td>46.20 ± 0.58</td>\n",
       "    </tr>\n",
       "    <tr>\n",
       "      <th>20.9B_C8_hmr_from_en_TRG</th>\n",
       "      <td>44.76 ± 0.73</td>\n",
       "      <td>42.16 ± 0.77</td>\n",
       "      <td>43.86 ± 0.46</td>\n",
       "      <td>42.76 ± 0.96</td>\n",
       "      <td>48.88 ± 0.14</td>\n",
       "      <td>38.04 ± 0.55</td>\n",
       "      <td>46.84 ± 0.85</td>\n",
       "      <td>41.42 ± 0.89</td>\n",
       "      <td>40.54 ± 0.61</td>\n",
       "      <td>40.18 ± 0.61</td>\n",
       "      <td>0.00 ± 0.00</td>\n",
       "      <td>39.12 ± 0.58</td>\n",
       "      <td>41.88 ± 0.43</td>\n",
       "      <td>40.08 ± 1.11</td>\n",
       "      <td>43.50 ± 0.63</td>\n",
       "    </tr>\n",
       "    <tr>\n",
       "      <th>20.9B_C8_hmr_from_en_ENSEMBLE</th>\n",
       "      <td>40.90 ± 0.77</td>\n",
       "      <td>40.70 ± 0.72</td>\n",
       "      <td>45.44 ± 0.25</td>\n",
       "      <td>42.90 ± 0.79</td>\n",
       "      <td>48.88 ± 0.14</td>\n",
       "      <td>38.04 ± 0.55</td>\n",
       "      <td>45.10 ± 0.67</td>\n",
       "      <td>43.38 ± 0.61</td>\n",
       "      <td>40.12 ± 0.52</td>\n",
       "      <td>40.50 ± 0.49</td>\n",
       "      <td>0.00 ± 0.00</td>\n",
       "      <td>39.76 ± 0.49</td>\n",
       "      <td>40.92 ± 0.62</td>\n",
       "      <td>39.56 ± 0.81</td>\n",
       "      <td>45.74 ± 0.60</td>\n",
       "    </tr>\n",
       "  </tbody>\n",
       "</table>\n",
       "</div>"
      ],
      "text/plain": [
       "                                          ar            bg            de  \\\n",
       "index                                                                      \n",
       "10.4B_C8_lang_from_en_SRC       38.00 ± 0.43  41.98 ± 0.89  45.36 ± 0.37   \n",
       "10.4B_C8_lang_from_en_TRG       43.48 ± 1.11  41.64 ± 0.76  44.46 ± 0.42   \n",
       "10.4B_C8_lang_from_en_ENSEMBLE  39.36 ± 0.67  41.10 ± 0.99  45.26 ± 0.32   \n",
       "20.9B_C8_hmr_from_en_SRC        38.66 ± 0.39  40.24 ± 0.59  45.48 ± 0.39   \n",
       "20.9B_C8_hmr_from_en_TRG        44.76 ± 0.73  42.16 ± 0.77  43.86 ± 0.46   \n",
       "20.9B_C8_hmr_from_en_ENSEMBLE   40.90 ± 0.77  40.70 ± 0.72  45.44 ± 0.25   \n",
       "\n",
       "                                          el            en            es  \\\n",
       "index                                                                      \n",
       "10.4B_C8_lang_from_en_SRC       42.60 ± 0.90  48.58 ± 0.47  38.44 ± 0.57   \n",
       "10.4B_C8_lang_from_en_TRG       42.78 ± 1.00  48.58 ± 0.47  38.44 ± 0.57   \n",
       "10.4B_C8_lang_from_en_ENSEMBLE  42.98 ± 0.95  48.58 ± 0.47  38.44 ± 0.57   \n",
       "20.9B_C8_hmr_from_en_SRC        43.36 ± 0.93  48.90 ± 0.16  38.06 ± 0.56   \n",
       "20.9B_C8_hmr_from_en_TRG        42.76 ± 0.96  48.88 ± 0.14  38.04 ± 0.55   \n",
       "20.9B_C8_hmr_from_en_ENSEMBLE   42.90 ± 0.79  48.88 ± 0.14  38.04 ± 0.55   \n",
       "\n",
       "                                          fr            hi            ru  \\\n",
       "index                                                                      \n",
       "10.4B_C8_lang_from_en_SRC       42.96 ± 0.58  43.42 ± 0.41  42.38 ± 0.91   \n",
       "10.4B_C8_lang_from_en_TRG       46.92 ± 0.74  41.46 ± 0.76  40.96 ± 0.48   \n",
       "10.4B_C8_lang_from_en_ENSEMBLE  44.64 ± 0.84  43.50 ± 0.78  40.24 ± 0.53   \n",
       "20.9B_C8_hmr_from_en_SRC        43.08 ± 0.55  43.66 ± 0.17  41.16 ± 0.62   \n",
       "20.9B_C8_hmr_from_en_TRG        46.84 ± 0.85  41.42 ± 0.89  40.54 ± 0.61   \n",
       "20.9B_C8_hmr_from_en_ENSEMBLE   45.10 ± 0.67  43.38 ± 0.61  40.12 ± 0.52   \n",
       "\n",
       "                                          sw           th            tr  \\\n",
       "index                                                                     \n",
       "10.4B_C8_lang_from_en_SRC       40.40 ± 0.17  0.00 ± 0.00  40.80 ± 0.40   \n",
       "10.4B_C8_lang_from_en_TRG       40.32 ± 0.65  0.00 ± 0.00  40.66 ± 0.30   \n",
       "10.4B_C8_lang_from_en_ENSEMBLE  40.54 ± 0.47  0.00 ± 0.00  40.18 ± 0.43   \n",
       "20.9B_C8_hmr_from_en_SRC        40.22 ± 0.45  0.00 ± 0.00  40.62 ± 0.55   \n",
       "20.9B_C8_hmr_from_en_TRG        40.18 ± 0.61  0.00 ± 0.00  39.12 ± 0.58   \n",
       "20.9B_C8_hmr_from_en_ENSEMBLE   40.50 ± 0.49  0.00 ± 0.00  39.76 ± 0.49   \n",
       "\n",
       "                                          ur            vi            zh  \n",
       "index                                                                     \n",
       "10.4B_C8_lang_from_en_SRC       38.74 ± 0.37  40.88 ± 0.68  46.08 ± 0.58  \n",
       "10.4B_C8_lang_from_en_TRG       40.50 ± 0.51  39.92 ± 0.89  44.38 ± 0.87  \n",
       "10.4B_C8_lang_from_en_ENSEMBLE  39.46 ± 0.44  39.72 ± 0.73  46.10 ± 0.71  \n",
       "20.9B_C8_hmr_from_en_SRC        39.28 ± 0.30  40.40 ± 0.51  46.20 ± 0.58  \n",
       "20.9B_C8_hmr_from_en_TRG        41.88 ± 0.43  40.08 ± 1.11  43.50 ± 0.63  \n",
       "20.9B_C8_hmr_from_en_ENSEMBLE   40.92 ± 0.62  39.56 ± 0.81  45.74 ± 0.60  "
      ]
     },
     "execution_count": 36,
     "metadata": {},
     "output_type": "execute_result"
    }
   ],
   "source": [
    "df"
   ]
  },
  {
   "cell_type": "code",
   "execution_count": 37,
   "metadata": {
    "collapsed": false,
    "jupyter": {
     "outputs_hidden": false
    },
    "pycharm": {
     "name": "#%%\n"
    }
   },
   "outputs": [
    {
     "data": {
      "text/plain": [
       "index\n",
       "10.4B_C8_lang_from_en_SRC         42.187143\n",
       "10.4B_C8_lang_from_en_TRG         42.464286\n",
       "10.4B_C8_lang_from_en_ENSEMBLE    42.150000\n",
       "20.9B_C8_hmr_from_en_SRC          42.094286\n",
       "20.9B_C8_hmr_from_en_TRG          42.430000\n",
       "20.9B_C8_hmr_from_en_ENSEMBLE     42.281429\n",
       "dtype: float64"
      ]
     },
     "execution_count": 37,
     "metadata": {},
     "output_type": "execute_result"
    }
   ],
   "source": [
    "# computing # computing average  for supported languages\n",
    "df_avg = df_avg[df_avg.columns.intersection(ALL_LANGUAGES)]\n",
    "df_avg.mean(axis=1)\n"
   ]
  },
  {
   "cell_type": "markdown",
   "metadata": {},
   "source": [
    "## Xstorycloze"
   ]
  },
  {
   "cell_type": "code",
   "execution_count": 38,
   "metadata": {},
   "outputs": [],
   "source": [
    "task = \"xstorycloze\"\n",
    "demonstrations = 8 # zero-shot\n",
    "\n",
    "\n",
    "split=\"eval\"\n",
    "LANGUGAES=['ar', 'en', 'es', 'eu', 'hi', 'id', 'my', 'ru', 'sw', 'te', 'zh']\n",
    "\n",
    "evals = []\n",
    "evals_std = []"
   ]
  },
  {
   "cell_type": "code",
   "execution_count": 39,
   "metadata": {},
   "outputs": [],
   "source": [
    "model = \"xglm-1.7B\"\n",
    "experiment = \"dense_from_en\"\n",
    "row_avg, row_std = row_results_with_std(model, experiment)\n",
    "evals.append(row_avg)\n",
    "evals_std.append(row_std)"
   ]
  },
  {
   "cell_type": "code",
   "execution_count": 40,
   "metadata": {},
   "outputs": [],
   "source": [
    "model = \"10.4B\"\n",
    "experiment = \"dense_from_en\"\n",
    "row_avg, row_std = row_results_with_std(model, experiment)\n",
    "evals.append(row_avg)\n",
    "evals_std.append(row_std)"
   ]
  },
  {
   "cell_type": "code",
   "execution_count": 41,
   "metadata": {},
   "outputs": [],
   "source": [
    "model = \"10.4B\"\n",
    "experiment = \"C8_lang_from_en_SRC\"\n",
    "row_avg, row_std = row_results_with_std(model, experiment)\n",
    "evals.append(row_avg)\n",
    "evals_std.append(row_std)"
   ]
  },
  {
   "cell_type": "code",
   "execution_count": 42,
   "metadata": {},
   "outputs": [],
   "source": [
    "model = \"10.4B\"\n",
    "experiment = \"C8_lang_from_en_TRG\"\n",
    "row_avg, row_std = row_results_with_std(model, experiment)\n",
    "evals.append(row_avg)\n",
    "evals_std.append(row_std)"
   ]
  },
  {
   "cell_type": "code",
   "execution_count": 43,
   "metadata": {},
   "outputs": [],
   "source": [
    "model = \"10.4B\"\n",
    "experiment = \"C8_lang_from_en_ENSEMBLE\"\n",
    "row_avg, row_std = row_results_with_std(model, experiment)\n",
    "evals.append(row_avg)\n",
    "evals_std.append(row_std)"
   ]
  },
  {
   "cell_type": "code",
   "execution_count": 44,
   "metadata": {},
   "outputs": [],
   "source": [
    "model = \"20.9B\"\n",
    "experiment = \"C8_hmr_from_en_SRC\"\n",
    "row_avg, row_std = row_results_with_std(model, experiment)\n",
    "evals.append(row_avg)\n",
    "evals_std.append(row_std)"
   ]
  },
  {
   "cell_type": "code",
   "execution_count": 45,
   "metadata": {},
   "outputs": [],
   "source": [
    "model = \"20.9B\"\n",
    "experiment = \"C8_hmr_from_en_TRG\"\n",
    "row_avg, row_std = row_results_with_std(model, experiment)\n",
    "evals.append(row_avg)\n",
    "evals_std.append(row_std)"
   ]
  },
  {
   "cell_type": "code",
   "execution_count": 46,
   "metadata": {},
   "outputs": [],
   "source": [
    "model = \"20.9B\"\n",
    "experiment = \"C8_hmr_from_en_ENSEMBLE\"\n",
    "row_avg, row_std = row_results_with_std(model, experiment)\n",
    "evals.append(row_avg)\n",
    "evals_std.append(row_std)"
   ]
  },
  {
   "cell_type": "code",
   "execution_count": 47,
   "metadata": {},
   "outputs": [],
   "source": [
    "df_avg = pd.DataFrame(evals)\n",
    "df_avg.set_index('index', inplace=True)\n",
    "\n",
    "df_std = pd.DataFrame(evals_std)\n",
    "df_std.set_index('index', inplace=True)\n",
    "\n",
    "# format dfs to avg ± std\n",
    "\n",
    "df = df_avg.copy()\n",
    "for col in df_avg.columns:\n",
    "\tdf[col] = df_avg[col].map('{:,.2f}'.format) + \" ± \" + df_std[col].map('{:,.2f}'.format)\n",
    "\n",
    "df.to_csv(f\"{task}_{split}_k{demonstrations}_from_en_results.csv\")"
   ]
  },
  {
   "cell_type": "code",
   "execution_count": 48,
   "metadata": {},
   "outputs": [
    {
     "data": {
      "text/html": [
       "<div>\n",
       "<style scoped>\n",
       "    .dataframe tbody tr th:only-of-type {\n",
       "        vertical-align: middle;\n",
       "    }\n",
       "\n",
       "    .dataframe tbody tr th {\n",
       "        vertical-align: top;\n",
       "    }\n",
       "\n",
       "    .dataframe thead th {\n",
       "        text-align: right;\n",
       "    }\n",
       "</style>\n",
       "<table border=\"1\" class=\"dataframe\">\n",
       "  <thead>\n",
       "    <tr style=\"text-align: right;\">\n",
       "      <th></th>\n",
       "      <th>ar</th>\n",
       "      <th>en</th>\n",
       "      <th>es</th>\n",
       "      <th>eu</th>\n",
       "      <th>hi</th>\n",
       "      <th>id</th>\n",
       "      <th>my</th>\n",
       "      <th>ru</th>\n",
       "      <th>sw</th>\n",
       "      <th>te</th>\n",
       "      <th>zh</th>\n",
       "    </tr>\n",
       "    <tr>\n",
       "      <th>index</th>\n",
       "      <th></th>\n",
       "      <th></th>\n",
       "      <th></th>\n",
       "      <th></th>\n",
       "      <th></th>\n",
       "      <th></th>\n",
       "      <th></th>\n",
       "      <th></th>\n",
       "      <th></th>\n",
       "      <th></th>\n",
       "      <th></th>\n",
       "    </tr>\n",
       "  </thead>\n",
       "  <tbody>\n",
       "    <tr>\n",
       "      <th>xglm-1.7B_dense_from_en</th>\n",
       "      <td>48.64 ± 0.10</td>\n",
       "      <td>58.16 ± 0.18</td>\n",
       "      <td>53.16 ± 0.26</td>\n",
       "      <td>51.66 ± 0.34</td>\n",
       "      <td>50.36 ± 0.09</td>\n",
       "      <td>52.14 ± 0.16</td>\n",
       "      <td>51.52 ± 0.12</td>\n",
       "      <td>52.52 ± 0.31</td>\n",
       "      <td>56.00 ± 0.16</td>\n",
       "      <td>56.48 ± 0.13</td>\n",
       "      <td>53.66 ± 0.16</td>\n",
       "    </tr>\n",
       "    <tr>\n",
       "      <th>10.4B_dense_from_en</th>\n",
       "      <td>50.20 ± 0.10</td>\n",
       "      <td>58.90 ± 0.44</td>\n",
       "      <td>54.54 ± 0.12</td>\n",
       "      <td>51.38 ± 0.16</td>\n",
       "      <td>53.28 ± 0.17</td>\n",
       "      <td>54.42 ± 0.26</td>\n",
       "      <td>52.62 ± 0.18</td>\n",
       "      <td>56.56 ± 0.36</td>\n",
       "      <td>58.20 ± 0.28</td>\n",
       "      <td>55.52 ± 0.21</td>\n",
       "      <td>55.02 ± 0.10</td>\n",
       "    </tr>\n",
       "    <tr>\n",
       "      <th>10.4B_C8_lang_from_en_SRC</th>\n",
       "      <td>49.78 ± 0.12</td>\n",
       "      <td>60.60 ± 0.27</td>\n",
       "      <td>55.38 ± 0.18</td>\n",
       "      <td>0.00 ± 0.00</td>\n",
       "      <td>52.48 ± 0.14</td>\n",
       "      <td>0.00 ± 0.00</td>\n",
       "      <td>0.00 ± 0.00</td>\n",
       "      <td>54.80 ± 0.20</td>\n",
       "      <td>57.84 ± 0.32</td>\n",
       "      <td>0.00 ± 0.00</td>\n",
       "      <td>54.84 ± 0.15</td>\n",
       "    </tr>\n",
       "    <tr>\n",
       "      <th>10.4B_C8_lang_from_en_TRG</th>\n",
       "      <td>50.28 ± 0.15</td>\n",
       "      <td>60.60 ± 0.27</td>\n",
       "      <td>55.38 ± 0.18</td>\n",
       "      <td>0.00 ± 0.00</td>\n",
       "      <td>52.78 ± 0.10</td>\n",
       "      <td>0.00 ± 0.00</td>\n",
       "      <td>0.00 ± 0.00</td>\n",
       "      <td>56.90 ± 0.38</td>\n",
       "      <td>58.24 ± 0.21</td>\n",
       "      <td>0.00 ± 0.00</td>\n",
       "      <td>55.74 ± 0.15</td>\n",
       "    </tr>\n",
       "    <tr>\n",
       "      <th>10.4B_C8_lang_from_en_ENSEMBLE</th>\n",
       "      <td>50.20 ± 0.04</td>\n",
       "      <td>60.60 ± 0.27</td>\n",
       "      <td>55.38 ± 0.18</td>\n",
       "      <td>0.00 ± 0.00</td>\n",
       "      <td>53.00 ± 0.22</td>\n",
       "      <td>0.00 ± 0.00</td>\n",
       "      <td>0.00 ± 0.00</td>\n",
       "      <td>55.70 ± 0.26</td>\n",
       "      <td>58.54 ± 0.14</td>\n",
       "      <td>0.00 ± 0.00</td>\n",
       "      <td>55.86 ± 0.09</td>\n",
       "    </tr>\n",
       "    <tr>\n",
       "      <th>20.9B_C8_hmr_from_en_SRC</th>\n",
       "      <td>49.44 ± 0.09</td>\n",
       "      <td>60.04 ± 0.40</td>\n",
       "      <td>54.70 ± 0.12</td>\n",
       "      <td>0.00 ± 0.00</td>\n",
       "      <td>52.42 ± 0.20</td>\n",
       "      <td>0.00 ± 0.00</td>\n",
       "      <td>0.00 ± 0.00</td>\n",
       "      <td>55.66 ± 0.40</td>\n",
       "      <td>57.64 ± 0.24</td>\n",
       "      <td>0.00 ± 0.00</td>\n",
       "      <td>54.86 ± 0.20</td>\n",
       "    </tr>\n",
       "    <tr>\n",
       "      <th>20.9B_C8_hmr_from_en_TRG</th>\n",
       "      <td>49.40 ± 0.22</td>\n",
       "      <td>60.04 ± 0.40</td>\n",
       "      <td>54.70 ± 0.12</td>\n",
       "      <td>0.00 ± 0.00</td>\n",
       "      <td>52.46 ± 0.19</td>\n",
       "      <td>0.00 ± 0.00</td>\n",
       "      <td>0.00 ± 0.00</td>\n",
       "      <td>56.66 ± 0.38</td>\n",
       "      <td>58.54 ± 0.28</td>\n",
       "      <td>0.00 ± 0.00</td>\n",
       "      <td>55.90 ± 0.22</td>\n",
       "    </tr>\n",
       "    <tr>\n",
       "      <th>20.9B_C8_hmr_from_en_ENSEMBLE</th>\n",
       "      <td>49.64 ± 0.17</td>\n",
       "      <td>60.04 ± 0.40</td>\n",
       "      <td>54.70 ± 0.12</td>\n",
       "      <td>0.00 ± 0.00</td>\n",
       "      <td>52.54 ± 0.08</td>\n",
       "      <td>0.00 ± 0.00</td>\n",
       "      <td>0.00 ± 0.00</td>\n",
       "      <td>55.98 ± 0.36</td>\n",
       "      <td>58.58 ± 0.33</td>\n",
       "      <td>0.00 ± 0.00</td>\n",
       "      <td>55.76 ± 0.15</td>\n",
       "    </tr>\n",
       "  </tbody>\n",
       "</table>\n",
       "</div>"
      ],
      "text/plain": [
       "                                          ar            en            es  \\\n",
       "index                                                                      \n",
       "xglm-1.7B_dense_from_en         48.64 ± 0.10  58.16 ± 0.18  53.16 ± 0.26   \n",
       "10.4B_dense_from_en             50.20 ± 0.10  58.90 ± 0.44  54.54 ± 0.12   \n",
       "10.4B_C8_lang_from_en_SRC       49.78 ± 0.12  60.60 ± 0.27  55.38 ± 0.18   \n",
       "10.4B_C8_lang_from_en_TRG       50.28 ± 0.15  60.60 ± 0.27  55.38 ± 0.18   \n",
       "10.4B_C8_lang_from_en_ENSEMBLE  50.20 ± 0.04  60.60 ± 0.27  55.38 ± 0.18   \n",
       "20.9B_C8_hmr_from_en_SRC        49.44 ± 0.09  60.04 ± 0.40  54.70 ± 0.12   \n",
       "20.9B_C8_hmr_from_en_TRG        49.40 ± 0.22  60.04 ± 0.40  54.70 ± 0.12   \n",
       "20.9B_C8_hmr_from_en_ENSEMBLE   49.64 ± 0.17  60.04 ± 0.40  54.70 ± 0.12   \n",
       "\n",
       "                                          eu            hi            id  \\\n",
       "index                                                                      \n",
       "xglm-1.7B_dense_from_en         51.66 ± 0.34  50.36 ± 0.09  52.14 ± 0.16   \n",
       "10.4B_dense_from_en             51.38 ± 0.16  53.28 ± 0.17  54.42 ± 0.26   \n",
       "10.4B_C8_lang_from_en_SRC        0.00 ± 0.00  52.48 ± 0.14   0.00 ± 0.00   \n",
       "10.4B_C8_lang_from_en_TRG        0.00 ± 0.00  52.78 ± 0.10   0.00 ± 0.00   \n",
       "10.4B_C8_lang_from_en_ENSEMBLE   0.00 ± 0.00  53.00 ± 0.22   0.00 ± 0.00   \n",
       "20.9B_C8_hmr_from_en_SRC         0.00 ± 0.00  52.42 ± 0.20   0.00 ± 0.00   \n",
       "20.9B_C8_hmr_from_en_TRG         0.00 ± 0.00  52.46 ± 0.19   0.00 ± 0.00   \n",
       "20.9B_C8_hmr_from_en_ENSEMBLE    0.00 ± 0.00  52.54 ± 0.08   0.00 ± 0.00   \n",
       "\n",
       "                                          my            ru            sw  \\\n",
       "index                                                                      \n",
       "xglm-1.7B_dense_from_en         51.52 ± 0.12  52.52 ± 0.31  56.00 ± 0.16   \n",
       "10.4B_dense_from_en             52.62 ± 0.18  56.56 ± 0.36  58.20 ± 0.28   \n",
       "10.4B_C8_lang_from_en_SRC        0.00 ± 0.00  54.80 ± 0.20  57.84 ± 0.32   \n",
       "10.4B_C8_lang_from_en_TRG        0.00 ± 0.00  56.90 ± 0.38  58.24 ± 0.21   \n",
       "10.4B_C8_lang_from_en_ENSEMBLE   0.00 ± 0.00  55.70 ± 0.26  58.54 ± 0.14   \n",
       "20.9B_C8_hmr_from_en_SRC         0.00 ± 0.00  55.66 ± 0.40  57.64 ± 0.24   \n",
       "20.9B_C8_hmr_from_en_TRG         0.00 ± 0.00  56.66 ± 0.38  58.54 ± 0.28   \n",
       "20.9B_C8_hmr_from_en_ENSEMBLE    0.00 ± 0.00  55.98 ± 0.36  58.58 ± 0.33   \n",
       "\n",
       "                                          te            zh  \n",
       "index                                                       \n",
       "xglm-1.7B_dense_from_en         56.48 ± 0.13  53.66 ± 0.16  \n",
       "10.4B_dense_from_en             55.52 ± 0.21  55.02 ± 0.10  \n",
       "10.4B_C8_lang_from_en_SRC        0.00 ± 0.00  54.84 ± 0.15  \n",
       "10.4B_C8_lang_from_en_TRG        0.00 ± 0.00  55.74 ± 0.15  \n",
       "10.4B_C8_lang_from_en_ENSEMBLE   0.00 ± 0.00  55.86 ± 0.09  \n",
       "20.9B_C8_hmr_from_en_SRC         0.00 ± 0.00  54.86 ± 0.20  \n",
       "20.9B_C8_hmr_from_en_TRG         0.00 ± 0.00  55.90 ± 0.22  \n",
       "20.9B_C8_hmr_from_en_ENSEMBLE    0.00 ± 0.00  55.76 ± 0.15  "
      ]
     },
     "execution_count": 48,
     "metadata": {},
     "output_type": "execute_result"
    }
   ],
   "source": [
    "df"
   ]
  },
  {
   "cell_type": "code",
   "execution_count": 49,
   "metadata": {},
   "outputs": [
    {
     "data": {
      "text/plain": [
       "index\n",
       "xglm-1.7B_dense_from_en           53.214286\n",
       "10.4B_dense_from_en               55.242857\n",
       "10.4B_C8_lang_from_en_SRC         55.102857\n",
       "10.4B_C8_lang_from_en_TRG         55.702857\n",
       "10.4B_C8_lang_from_en_ENSEMBLE    55.611429\n",
       "20.9B_C8_hmr_from_en_SRC          54.965714\n",
       "20.9B_C8_hmr_from_en_TRG          55.385714\n",
       "20.9B_C8_hmr_from_en_ENSEMBLE     55.320000\n",
       "dtype: float64"
      ]
     },
     "execution_count": 49,
     "metadata": {},
     "output_type": "execute_result"
    }
   ],
   "source": [
    "# computing # computing average  for supported languages\n",
    "df_avg = df_avg[df_avg.columns.intersection(ALL_LANGUAGES)]\n",
    "df_avg.mean(axis=1)"
   ]
  },
  {
   "cell_type": "code",
   "execution_count": 50,
   "metadata": {},
   "outputs": [
    {
     "data": {
      "text/html": [
       "<div>\n",
       "<style scoped>\n",
       "    .dataframe tbody tr th:only-of-type {\n",
       "        vertical-align: middle;\n",
       "    }\n",
       "\n",
       "    .dataframe tbody tr th {\n",
       "        vertical-align: top;\n",
       "    }\n",
       "\n",
       "    .dataframe thead th {\n",
       "        text-align: right;\n",
       "    }\n",
       "</style>\n",
       "<table border=\"1\" class=\"dataframe\">\n",
       "  <thead>\n",
       "    <tr style=\"text-align: right;\">\n",
       "      <th></th>\n",
       "      <th>ar</th>\n",
       "      <th>en</th>\n",
       "      <th>es</th>\n",
       "      <th>hi</th>\n",
       "      <th>ru</th>\n",
       "      <th>sw</th>\n",
       "      <th>zh</th>\n",
       "    </tr>\n",
       "    <tr>\n",
       "      <th>index</th>\n",
       "      <th></th>\n",
       "      <th></th>\n",
       "      <th></th>\n",
       "      <th></th>\n",
       "      <th></th>\n",
       "      <th></th>\n",
       "      <th></th>\n",
       "    </tr>\n",
       "  </thead>\n",
       "  <tbody>\n",
       "    <tr>\n",
       "      <th>xglm-1.7B_dense_from_en</th>\n",
       "      <td>48.64</td>\n",
       "      <td>58.16</td>\n",
       "      <td>53.16</td>\n",
       "      <td>50.36</td>\n",
       "      <td>52.52</td>\n",
       "      <td>56.00</td>\n",
       "      <td>53.66</td>\n",
       "    </tr>\n",
       "    <tr>\n",
       "      <th>10.4B_dense_from_en</th>\n",
       "      <td>50.20</td>\n",
       "      <td>58.90</td>\n",
       "      <td>54.54</td>\n",
       "      <td>53.28</td>\n",
       "      <td>56.56</td>\n",
       "      <td>58.20</td>\n",
       "      <td>55.02</td>\n",
       "    </tr>\n",
       "    <tr>\n",
       "      <th>10.4B_C8_lang_from_en_SRC</th>\n",
       "      <td>49.78</td>\n",
       "      <td>60.60</td>\n",
       "      <td>55.38</td>\n",
       "      <td>52.48</td>\n",
       "      <td>54.80</td>\n",
       "      <td>57.84</td>\n",
       "      <td>54.84</td>\n",
       "    </tr>\n",
       "    <tr>\n",
       "      <th>10.4B_C8_lang_from_en_TRG</th>\n",
       "      <td>50.28</td>\n",
       "      <td>60.60</td>\n",
       "      <td>55.38</td>\n",
       "      <td>52.78</td>\n",
       "      <td>56.90</td>\n",
       "      <td>58.24</td>\n",
       "      <td>55.74</td>\n",
       "    </tr>\n",
       "    <tr>\n",
       "      <th>10.4B_C8_lang_from_en_ENSEMBLE</th>\n",
       "      <td>50.20</td>\n",
       "      <td>60.60</td>\n",
       "      <td>55.38</td>\n",
       "      <td>53.00</td>\n",
       "      <td>55.70</td>\n",
       "      <td>58.54</td>\n",
       "      <td>55.86</td>\n",
       "    </tr>\n",
       "    <tr>\n",
       "      <th>20.9B_C8_hmr_from_en_SRC</th>\n",
       "      <td>49.44</td>\n",
       "      <td>60.04</td>\n",
       "      <td>54.70</td>\n",
       "      <td>52.42</td>\n",
       "      <td>55.66</td>\n",
       "      <td>57.64</td>\n",
       "      <td>54.86</td>\n",
       "    </tr>\n",
       "    <tr>\n",
       "      <th>20.9B_C8_hmr_from_en_TRG</th>\n",
       "      <td>49.40</td>\n",
       "      <td>60.04</td>\n",
       "      <td>54.70</td>\n",
       "      <td>52.46</td>\n",
       "      <td>56.66</td>\n",
       "      <td>58.54</td>\n",
       "      <td>55.90</td>\n",
       "    </tr>\n",
       "    <tr>\n",
       "      <th>20.9B_C8_hmr_from_en_ENSEMBLE</th>\n",
       "      <td>49.64</td>\n",
       "      <td>60.04</td>\n",
       "      <td>54.70</td>\n",
       "      <td>52.54</td>\n",
       "      <td>55.98</td>\n",
       "      <td>58.58</td>\n",
       "      <td>55.76</td>\n",
       "    </tr>\n",
       "  </tbody>\n",
       "</table>\n",
       "</div>"
      ],
      "text/plain": [
       "                                   ar     en     es     hi     ru     sw  \\\n",
       "index                                                                      \n",
       "xglm-1.7B_dense_from_en         48.64  58.16  53.16  50.36  52.52  56.00   \n",
       "10.4B_dense_from_en             50.20  58.90  54.54  53.28  56.56  58.20   \n",
       "10.4B_C8_lang_from_en_SRC       49.78  60.60  55.38  52.48  54.80  57.84   \n",
       "10.4B_C8_lang_from_en_TRG       50.28  60.60  55.38  52.78  56.90  58.24   \n",
       "10.4B_C8_lang_from_en_ENSEMBLE  50.20  60.60  55.38  53.00  55.70  58.54   \n",
       "20.9B_C8_hmr_from_en_SRC        49.44  60.04  54.70  52.42  55.66  57.64   \n",
       "20.9B_C8_hmr_from_en_TRG        49.40  60.04  54.70  52.46  56.66  58.54   \n",
       "20.9B_C8_hmr_from_en_ENSEMBLE   49.64  60.04  54.70  52.54  55.98  58.58   \n",
       "\n",
       "                                   zh  \n",
       "index                                  \n",
       "xglm-1.7B_dense_from_en         53.66  \n",
       "10.4B_dense_from_en             55.02  \n",
       "10.4B_C8_lang_from_en_SRC       54.84  \n",
       "10.4B_C8_lang_from_en_TRG       55.74  \n",
       "10.4B_C8_lang_from_en_ENSEMBLE  55.86  \n",
       "20.9B_C8_hmr_from_en_SRC        54.86  \n",
       "20.9B_C8_hmr_from_en_TRG        55.90  \n",
       "20.9B_C8_hmr_from_en_ENSEMBLE   55.76  "
      ]
     },
     "execution_count": 50,
     "metadata": {},
     "output_type": "execute_result"
    }
   ],
   "source": [
    "df_avg"
   ]
  },
  {
   "cell_type": "markdown",
   "source": [
    "#### "
   ],
   "metadata": {
    "collapsed": false,
    "pycharm": {
     "name": "#%% md\n"
    }
   }
  }
 ],
 "metadata": {
  "kernelspec": {
   "display_name": "Python 3 (ipykernel)",
   "language": "python",
   "name": "python3"
  },
  "language_info": {
   "codemirror_mode": {
    "name": "ipython",
    "version": 3
   },
   "file_extension": ".py",
   "mimetype": "text/x-python",
   "name": "python",
   "nbconvert_exporter": "python",
   "pygments_lexer": "ipython3",
   "version": "3.10.0"
  }
 },
 "nbformat": 4,
 "nbformat_minor": 4
}